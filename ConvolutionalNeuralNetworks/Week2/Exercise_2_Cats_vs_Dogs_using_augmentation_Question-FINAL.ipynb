{
 "cells": [
  {
   "cell_type": "code",
   "execution_count": 1,
   "metadata": {
    "colab": {},
    "colab_type": "code",
    "id": "dn-6c02VmqiN"
   },
   "outputs": [],
   "source": [
    "# ATTENTION: Please do not alter any of the provided code in the exercise. Only add your own code where indicated\n",
    "# ATTENTION: Please do not add or remove any cells in the exercise. The grader will check specific cells based on the cell position.\n",
    "# ATTENTION: Please use the provided epoch values when training.\n",
    "\n",
    "# In this exercise you will train a CNN on the FULL Cats-v-dogs dataset\n",
    "# This will require you doing a lot of data preprocessing because\n",
    "# the dataset isn't split into training and validation for you\n",
    "# This code block has all the required inputs\n",
    "import os\n",
    "import zipfile\n",
    "import random\n",
    "import shutil\n",
    "import tensorflow as tf\n",
    "from tensorflow.keras.optimizers import RMSprop\n",
    "from tensorflow.keras.preprocessing.image import ImageDataGenerator\n",
    "from shutil import copyfile\n",
    "from os import getcwd"
   ]
  },
  {
   "cell_type": "code",
   "execution_count": 2,
   "metadata": {
    "colab": {},
    "colab_type": "code",
    "id": "3sd9dQWa23aj"
   },
   "outputs": [],
   "source": [
    "# This code block unzips the full Cats-v-Dogs dataset to /tmp\n",
    "# which will create a tmp/PetImages directory containing subdirectories\n",
    "# called 'Cat' and 'Dog' (that's how the original researchers structured it)\n",
    "path_cats_and_dogs = f\"{getcwd()}/../tmp2/cats-and-dogs.zip\"\n",
    "shutil.rmtree('/tmp')\n",
    "\n",
    "local_zip = path_cats_and_dogs\n",
    "zip_ref = zipfile.ZipFile(local_zip, 'r')\n",
    "zip_ref.extractall('/tmp')\n",
    "zip_ref.close()"
   ]
  },
  {
   "cell_type": "code",
   "execution_count": 3,
   "metadata": {
    "colab": {},
    "colab_type": "code",
    "id": "gi3yD62a6X3S"
   },
   "outputs": [
    {
     "name": "stdout",
     "output_type": "stream",
     "text": [
      "1500\n",
      "1500\n"
     ]
    }
   ],
   "source": [
    "print(len(os.listdir('/tmp/PetImages/Cat/')))\n",
    "print(len(os.listdir('/tmp/PetImages/Dog/')))\n",
    "\n",
    "# Expected Output:\n",
    "# 1500\n",
    "# 1500"
   ]
  },
  {
   "cell_type": "code",
   "execution_count": 4,
   "metadata": {
    "colab": {},
    "colab_type": "code",
    "id": "F-QkLjxpmyK2"
   },
   "outputs": [],
   "source": [
    "# Use os.mkdir to create your directories\n",
    "# You will need a directory for cats-v-dogs, and subdirectories for training\n",
    "# and testing. These in turn will need subdirectories for 'cats' and 'dogs'\n",
    "try:\n",
    "    os.mkdir('/tmp/cats-v-dogs/')\n",
    "    \n",
    "    os.mkdir('/tmp/cats-v-dogs/training/')\n",
    "    os.mkdir('/tmp/cats-v-dogs/training/cats/')\n",
    "    os.mkdir('/tmp/cats-v-dogs/training/dogs/')\n",
    "    \n",
    "    os.mkdir('/tmp/cats-v-dogs/testing/')\n",
    "    os.mkdir('/tmp/cats-v-dogs/testing/cats/')\n",
    "    os.mkdir('/tmp/cats-v-dogs/testing/dogs/')\n",
    "except OSError:\n",
    "    pass"
   ]
  },
  {
   "cell_type": "code",
   "execution_count": 5,
   "metadata": {
    "colab": {},
    "colab_type": "code",
    "id": "zvSODo0f9LaU"
   },
   "outputs": [],
   "source": [
    "# Write a python function called split_data which takes\n",
    "# a SOURCE directory containing the files\n",
    "# a TRAINING directory that a portion of the files will be copied to\n",
    "# a TESTING directory that a portion of the files will be copie to\n",
    "# a SPLIT SIZE to determine the portion\n",
    "# The files should also be randomized, so that the training set is a random\n",
    "# X% of the files, and the test set is the remaining files\n",
    "# SO, for example, if SOURCE is PetImages/Cat, and SPLIT SIZE is .9\n",
    "# Then 90% of the images in PetImages/Cat will be copied to the TRAINING dir\n",
    "# and 10% of the images will be copied to the TESTING dir\n",
    "# Also -- All images should be checked, and if they have a zero file length,\n",
    "# they will not be copied over\n",
    "#\n",
    "# os.listdir(DIRECTORY) gives you a listing of the contents of that directory\n",
    "# os.path.getsize(PATH) gives you the size of the file\n",
    "# copyfile(source, destination) copies a file from source to destination\n",
    "# random.sample(list, len(list)) shuffles a list\n",
    "def split_data(SOURCE, TRAINING, TESTING, SPLIT_SIZE):\n",
    "# YOUR CODE STARTS HERE\n",
    "    images = os.listdir(SOURCE)\n",
    "    images = random.sample(images, len(images))\n",
    "    \n",
    "    n_training = int(SPLIT_SIZE*len(images))\n",
    "    \n",
    "    for i in range(n_training):\n",
    "        if os.path.getsize(SOURCE+images[i]) != 0:\n",
    "            copyfile(SOURCE+images[i], TRAINING+images[i])\n",
    "    for i in range(n_training, len(images)):\n",
    "        if os.path.getsize(SOURCE+images[i]) != 0:\n",
    "            copyfile(SOURCE+images[i], TESTING+images[i])\n",
    "\n",
    "# YOUR CODE ENDS HERE\n",
    "\n",
    "\n",
    "CAT_SOURCE_DIR = \"/tmp/PetImages/Cat/\"\n",
    "TRAINING_CATS_DIR = \"/tmp/cats-v-dogs/training/cats/\"\n",
    "TESTING_CATS_DIR = \"/tmp/cats-v-dogs/testing/cats/\"\n",
    "DOG_SOURCE_DIR = \"/tmp/PetImages/Dog/\"\n",
    "TRAINING_DOGS_DIR = \"/tmp/cats-v-dogs/training/dogs/\"\n",
    "TESTING_DOGS_DIR = \"/tmp/cats-v-dogs/testing/dogs/\"\n",
    "\n",
    "split_size = .9\n",
    "split_data(CAT_SOURCE_DIR, TRAINING_CATS_DIR, TESTING_CATS_DIR, split_size)\n",
    "split_data(DOG_SOURCE_DIR, TRAINING_DOGS_DIR, TESTING_DOGS_DIR, split_size)"
   ]
  },
  {
   "cell_type": "code",
   "execution_count": 6,
   "metadata": {
    "colab": {},
    "colab_type": "code",
    "id": "luthalB76ufC"
   },
   "outputs": [
    {
     "name": "stdout",
     "output_type": "stream",
     "text": [
      "1350\n",
      "1350\n",
      "150\n",
      "150\n"
     ]
    }
   ],
   "source": [
    "print(len(os.listdir('/tmp/cats-v-dogs/training/cats/')))\n",
    "print(len(os.listdir('/tmp/cats-v-dogs/training/dogs/')))\n",
    "print(len(os.listdir('/tmp/cats-v-dogs/testing/cats/')))\n",
    "print(len(os.listdir('/tmp/cats-v-dogs/testing/dogs/')))\n",
    "\n",
    "# Expected output:\n",
    "# 1350\n",
    "# 1350\n",
    "# 150\n",
    "# 150"
   ]
  },
  {
   "cell_type": "code",
   "execution_count": 10,
   "metadata": {
    "colab": {},
    "colab_type": "code",
    "id": "-BQrav4anTmj"
   },
   "outputs": [],
   "source": [
    "# DEFINE A KERAS MODEL TO CLASSIFY CATS V DOGS\n",
    "# USE AT LEAST 3 CONVOLUTION LAYERS\n",
    "model = tf.keras.models.Sequential([\n",
    "    tf.keras.layers.Conv2D(16, (3, 3), activation='relu', input_shape=(150, 150, 3)),\n",
    "    tf.keras.layers.MaxPooling2D(2, 2),\n",
    "    tf.keras.layers.Conv2D(32, (3, 3), activation='relu'),\n",
    "    tf.keras.layers.MaxPooling2D(2, 2),\n",
    "    tf.keras.layers.Conv2D(64, (3, 3), activation='relu'),\n",
    "    tf.keras.layers.MaxPooling2D(2, 2),\n",
    "    tf.keras.layers.Conv2D(64, (3, 3), activation='relu'),\n",
    "    tf.keras.layers.MaxPooling2D(2, 2),\n",
    "    tf.keras.layers.Flatten(),\n",
    "    tf.keras.layers.Dense(512, activation='relu'),\n",
    "    tf.keras.layers.Dense(1, activation='sigmoid')\n",
    "])\n",
    "\n",
    "model.compile(optimizer=RMSprop(lr=0.001), loss='binary_crossentropy', metrics=['acc'])"
   ]
  },
  {
   "cell_type": "markdown",
   "metadata": {},
   "source": [
    "# NOTE:\n",
    "\n",
    "In the cell below you **MUST** use a batch size of 10 (`batch_size=10`) for the `train_generator` and the `validation_generator`. Using a batch size greater than 10 will exceed memory limits on the Coursera platform."
   ]
  },
  {
   "cell_type": "code",
   "execution_count": 11,
   "metadata": {
    "colab": {},
    "colab_type": "code",
    "id": "mlNjoJ5D61N6"
   },
   "outputs": [
    {
     "name": "stdout",
     "output_type": "stream",
     "text": [
      "Found 2700 images belonging to 2 classes.\n",
      "Found 300 images belonging to 2 classes.\n"
     ]
    }
   ],
   "source": [
    "TRAINING_DIR = '/tmp/cats-v-dogs/training/'\n",
    "train_datagen = ImageDataGenerator(rescale=1/255.0,\n",
    "                                   rotation_range=40,\n",
    "                                   width_shift_range=0.2,\n",
    "                                   height_shift_range=0.2,\n",
    "                                   shear_range=0.2,\n",
    "                                   zoom_range=0.2,\n",
    "                                   horizontal_flip=True,\n",
    "                                   fill_mode='nearest')\n",
    "\n",
    "# NOTE: YOU MUST USE A BATCH SIZE OF 10 (batch_size=10) FOR THE \n",
    "# TRAIN GENERATOR.\n",
    "train_generator = train_datagen.flow_from_directory(TRAINING_DIR,\n",
    "                                                    target_size=(150, 150),\n",
    "                                                    batch_size=10,\n",
    "                                                    class_mode='binary')\n",
    "\n",
    "VALIDATION_DIR = '/tmp/cats-v-dogs/testing/'\n",
    "validation_datagen = ImageDataGenerator(rescale=1/255,\n",
    "                                        rotation_range=40,\n",
    "                                        width_shift_range=0.2,\n",
    "                                        height_shift_range=0.2,\n",
    "                                        shear_range=0.2,\n",
    "                                        zoom_range=0.2,\n",
    "                                        horizontal_flip=True,\n",
    "                                        fill_mode='nearest')\n",
    "\n",
    "# NOTE: YOU MUST USE A BACTH SIZE OF 10 (batch_size=10) FOR THE \n",
    "# VALIDATION GENERATOR.\n",
    "validation_generator = validation_datagen.flow_from_directory(VALIDATION_DIR,\n",
    "                                                              target_size=(150, 150),\n",
    "                                                              batch_size=10,\n",
    "                                                              class_mode='binary')\n",
    "\n",
    "\n",
    "\n",
    "# Expected Output:\n",
    "# Found 2700 images belonging to 2 classes.\n",
    "# Found 300 images belonging to 2 classes."
   ]
  },
  {
   "cell_type": "code",
   "execution_count": 12,
   "metadata": {
    "colab": {},
    "colab_type": "code",
    "id": "KyS4n53w7DxC"
   },
   "outputs": [
    {
     "name": "stdout",
     "output_type": "stream",
     "text": [
      "Epoch 1/50\n",
      "270/270 [==============================] - 56s 207ms/step - loss: 0.7090 - acc: 0.5241 - val_loss: 0.6807 - val_acc: 0.6167\n",
      "Epoch 2/50\n",
      "270/270 [==============================] - 57s 212ms/step - loss: 0.6819 - acc: 0.5819 - val_loss: 0.6563 - val_acc: 0.6633\n",
      "Epoch 3/50\n",
      "270/270 [==============================] - 56s 209ms/step - loss: 0.6549 - acc: 0.6133 - val_loss: 0.6291 - val_acc: 0.6667\n",
      "Epoch 4/50\n",
      "270/270 [==============================] - 59s 218ms/step - loss: 0.6456 - acc: 0.6348 - val_loss: 0.6317 - val_acc: 0.6700\n",
      "Epoch 5/50\n",
      "270/270 [==============================] - 57s 212ms/step - loss: 0.6364 - acc: 0.6319 - val_loss: 0.5640 - val_acc: 0.7400\n",
      "Epoch 6/50\n",
      "270/270 [==============================] - 55s 205ms/step - loss: 0.6377 - acc: 0.6570 - val_loss: 0.6536 - val_acc: 0.6167\n",
      "Epoch 7/50\n",
      "270/270 [==============================] - 56s 206ms/step - loss: 0.6170 - acc: 0.6711 - val_loss: 0.6353 - val_acc: 0.6533\n",
      "Epoch 8/50\n",
      "270/270 [==============================] - 56s 206ms/step - loss: 0.6178 - acc: 0.6674 - val_loss: 0.5803 - val_acc: 0.7100\n",
      "Epoch 9/50\n",
      "270/270 [==============================] - 55s 204ms/step - loss: 0.6110 - acc: 0.6641 - val_loss: 0.5844 - val_acc: 0.6867\n",
      "Epoch 10/50\n",
      "270/270 [==============================] - 54s 201ms/step - loss: 0.6157 - acc: 0.6741 - val_loss: 0.5822 - val_acc: 0.7200\n",
      "Epoch 11/50\n",
      "270/270 [==============================] - 54s 202ms/step - loss: 0.6118 - acc: 0.6819 - val_loss: 0.5516 - val_acc: 0.7533\n",
      "Epoch 12/50\n",
      "270/270 [==============================] - 55s 206ms/step - loss: 0.5937 - acc: 0.6881 - val_loss: 0.5906 - val_acc: 0.6967\n",
      "Epoch 13/50\n",
      "270/270 [==============================] - 55s 204ms/step - loss: 0.5931 - acc: 0.6778 - val_loss: 0.5591 - val_acc: 0.7300\n",
      "Epoch 14/50\n",
      "270/270 [==============================] - 55s 203ms/step - loss: 0.5898 - acc: 0.6970 - val_loss: 0.5449 - val_acc: 0.7567\n",
      "Epoch 15/50\n",
      "270/270 [==============================] - 56s 208ms/step - loss: 0.5922 - acc: 0.6844 - val_loss: 0.5738 - val_acc: 0.7100\n",
      "Epoch 16/50\n",
      "270/270 [==============================] - 55s 203ms/step - loss: 0.5894 - acc: 0.6959 - val_loss: 0.5859 - val_acc: 0.7100\n",
      "Epoch 17/50\n",
      "270/270 [==============================] - 56s 206ms/step - loss: 0.5904 - acc: 0.7104 - val_loss: 0.5353 - val_acc: 0.7367\n",
      "Epoch 18/50\n",
      "270/270 [==============================] - 55s 202ms/step - loss: 0.6126 - acc: 0.6904 - val_loss: 0.5537 - val_acc: 0.7067\n",
      "Epoch 19/50\n",
      "270/270 [==============================] - 54s 200ms/step - loss: 0.5717 - acc: 0.7122 - val_loss: 0.6089 - val_acc: 0.6333\n",
      "Epoch 20/50\n",
      "270/270 [==============================] - 55s 203ms/step - loss: 0.5890 - acc: 0.6848 - val_loss: 0.6470 - val_acc: 0.6300\n",
      "Epoch 21/50\n",
      "270/270 [==============================] - 55s 204ms/step - loss: 0.5863 - acc: 0.7107 - val_loss: 0.5343 - val_acc: 0.7533\n",
      "Epoch 22/50\n",
      "270/270 [==============================] - 56s 206ms/step - loss: 0.5666 - acc: 0.7196 - val_loss: 0.6225 - val_acc: 0.7100\n",
      "Epoch 23/50\n",
      "270/270 [==============================] - 56s 206ms/step - loss: 0.5665 - acc: 0.7189 - val_loss: 0.5321 - val_acc: 0.7500\n",
      "Epoch 24/50\n",
      "270/270 [==============================] - 56s 206ms/step - loss: 0.5740 - acc: 0.7148 - val_loss: 0.5288 - val_acc: 0.7300\n",
      "Epoch 25/50\n",
      "270/270 [==============================] - 56s 207ms/step - loss: 0.5646 - acc: 0.7181 - val_loss: 0.5101 - val_acc: 0.7633\n",
      "Epoch 26/50\n",
      "270/270 [==============================] - 59s 217ms/step - loss: 0.5718 - acc: 0.7270 - val_loss: 0.5185 - val_acc: 0.7533\n",
      "Epoch 27/50\n",
      "270/270 [==============================] - 55s 203ms/step - loss: 0.5639 - acc: 0.7244 - val_loss: 0.5339 - val_acc: 0.7567\n",
      "Epoch 28/50\n",
      "270/270 [==============================] - 56s 209ms/step - loss: 0.5574 - acc: 0.7322 - val_loss: 0.5098 - val_acc: 0.7333\n",
      "Epoch 29/50\n",
      "270/270 [==============================] - 54s 201ms/step - loss: 0.5607 - acc: 0.7193 - val_loss: 0.5993 - val_acc: 0.6967\n",
      "Epoch 30/50\n",
      "270/270 [==============================] - 56s 209ms/step - loss: 0.5580 - acc: 0.7204 - val_loss: 0.6965 - val_acc: 0.7067\n",
      "Epoch 31/50\n",
      "270/270 [==============================] - 56s 207ms/step - loss: 0.5516 - acc: 0.7385 - val_loss: 0.6278 - val_acc: 0.7000\n",
      "Epoch 32/50\n",
      "270/270 [==============================] - 54s 202ms/step - loss: 0.5608 - acc: 0.7278 - val_loss: 0.5370 - val_acc: 0.7333\n",
      "Epoch 33/50\n",
      "270/270 [==============================] - 55s 202ms/step - loss: 0.5633 - acc: 0.7289 - val_loss: 0.5324 - val_acc: 0.7167\n",
      "Epoch 34/50\n",
      "270/270 [==============================] - 55s 202ms/step - loss: 0.5505 - acc: 0.7378 - val_loss: 0.4848 - val_acc: 0.8200\n",
      "Epoch 35/50\n",
      "270/270 [==============================] - 58s 213ms/step - loss: 0.5337 - acc: 0.7433 - val_loss: 0.5461 - val_acc: 0.7900\n",
      "Epoch 36/50\n",
      "270/270 [==============================] - 58s 214ms/step - loss: 0.5714 - acc: 0.7267 - val_loss: 0.6168 - val_acc: 0.7533\n",
      "Epoch 37/50\n",
      "270/270 [==============================] - 56s 207ms/step - loss: 0.5519 - acc: 0.7230 - val_loss: 0.5414 - val_acc: 0.7333\n",
      "Epoch 38/50\n",
      "270/270 [==============================] - 54s 200ms/step - loss: 0.5574 - acc: 0.7311 - val_loss: 0.5120 - val_acc: 0.7800\n",
      "Epoch 39/50\n",
      "270/270 [==============================] - 54s 200ms/step - loss: 0.5537 - acc: 0.7315 - val_loss: 0.5051 - val_acc: 0.7500\n",
      "Epoch 40/50\n",
      "270/270 [==============================] - 56s 207ms/step - loss: 0.5634 - acc: 0.7389 - val_loss: 0.5425 - val_acc: 0.7567\n",
      "Epoch 41/50\n",
      "270/270 [==============================] - 56s 209ms/step - loss: 0.5608 - acc: 0.7300 - val_loss: 0.5517 - val_acc: 0.7900\n",
      "Epoch 42/50\n",
      "270/270 [==============================] - 58s 214ms/step - loss: 0.5437 - acc: 0.7400 - val_loss: 0.6003 - val_acc: 0.7433\n",
      "Epoch 43/50\n",
      "270/270 [==============================] - 56s 208ms/step - loss: 0.5482 - acc: 0.7385 - val_loss: 0.4822 - val_acc: 0.8000\n",
      "Epoch 44/50\n",
      "270/270 [==============================] - 57s 210ms/step - loss: 0.5582 - acc: 0.7400 - val_loss: 0.6216 - val_acc: 0.6633\n",
      "Epoch 45/50\n",
      "270/270 [==============================] - 58s 216ms/step - loss: 0.5588 - acc: 0.7307 - val_loss: 0.6823 - val_acc: 0.6567\n",
      "Epoch 46/50\n",
      "270/270 [==============================] - 58s 216ms/step - loss: 0.5485 - acc: 0.7522 - val_loss: 0.5790 - val_acc: 0.7267\n",
      "Epoch 47/50\n",
      "270/270 [==============================] - 55s 205ms/step - loss: 0.5448 - acc: 0.7548 - val_loss: 0.5524 - val_acc: 0.7767\n",
      "Epoch 48/50\n",
      "270/270 [==============================] - 57s 212ms/step - loss: 0.5592 - acc: 0.7370 - val_loss: 0.5806 - val_acc: 0.7467\n",
      "Epoch 49/50\n",
      "270/270 [==============================] - 54s 202ms/step - loss: 0.5657 - acc: 0.7304 - val_loss: 0.5560 - val_acc: 0.7800\n",
      "Epoch 50/50\n",
      "270/270 [==============================] - 60s 222ms/step - loss: 1.0259 - acc: 0.7363 - val_loss: 0.6728 - val_acc: 0.6300\n"
     ]
    }
   ],
   "source": [
    "history = model.fit_generator(train_generator,\n",
    "                              epochs=50,\n",
    "                              verbose=1,\n",
    "                              validation_data=validation_generator)\n"
   ]
  },
  {
   "cell_type": "code",
   "execution_count": 13,
   "metadata": {
    "colab": {},
    "colab_type": "code",
    "id": "MWZrJN4-65RC"
   },
   "outputs": [
    {
     "data": {
      "text/plain": [
       "Text(0.5, 1.0, 'Training and validation loss')"
      ]
     },
     "execution_count": 13,
     "metadata": {},
     "output_type": "execute_result"
    },
    {
     "data": {
      "image/png": "[encoded data removed]",
      "text/plain": [
       "<Figure size 432x288 with 1 Axes>"
      ]
     },
     "metadata": {
      "needs_background": "light"
     },
     "output_type": "display_data"
    },
    {
     "data": {
      "image/png": "[encoded data removed]",
      "text/plain": [
       "<Figure size 432x288 with 1 Axes>"
      ]
     },
     "metadata": {
      "needs_background": "light"
     },
     "output_type": "display_data"
    }
   ],
   "source": [
    "# PLOT LOSS AND ACCURACY\n",
    "%matplotlib inline\n",
    "\n",
    "import matplotlib.image  as mpimg\n",
    "import matplotlib.pyplot as plt\n",
    "\n",
    "#-----------------------------------------------------------\n",
    "# Retrieve a list of list results on training and test data\n",
    "# sets for each training epoch\n",
    "#-----------------------------------------------------------\n",
    "acc=history.history['acc']\n",
    "val_acc=history.history['val_acc']\n",
    "loss=history.history['loss']\n",
    "val_loss=history.history['val_loss']\n",
    "\n",
    "epochs=range(len(acc)) # Get number of epochs\n",
    "\n",
    "#------------------------------------------------\n",
    "# Plot training and validation accuracy per epoch\n",
    "#------------------------------------------------\n",
    "plt.plot(epochs, acc, 'r', \"Training Accuracy\")\n",
    "plt.plot(epochs, val_acc, 'b', \"Validation Accuracy\")\n",
    "plt.title('Training and validation accuracy')\n",
    "plt.figure()\n",
    "\n",
    "#------------------------------------------------\n",
    "# Plot training and validation loss per epoch\n",
    "#------------------------------------------------\n",
    "plt.plot(epochs, loss, 'r', \"Training Loss\")\n",
    "plt.plot(epochs, val_loss, 'b', \"Validation Loss\")\n",
    "\n",
    "\n",
    "plt.title('Training and validation loss')\n",
    "\n",
    "# Desired output. Charts with training and validation metrics. No crash :)"
   ]
  },
  {
   "cell_type": "markdown",
   "metadata": {},
   "source": [
    "# Submission Instructions"
   ]
  },
  {
   "cell_type": "code",
   "execution_count": null,
   "metadata": {},
   "outputs": [],
   "source": [
    "# Now click the 'Submit Assignment' button above."
   ]
  },
  {
   "cell_type": "markdown",
   "metadata": {},
   "source": [
    "# When you're done or would like to take a break, please run the two cells below to save your work and close the Notebook. This will free up resources for your fellow learners. "
   ]
  },
  {
   "cell_type": "code",
   "execution_count": null,
   "metadata": {},
   "outputs": [],
   "source": [
    "%%javascript\n",
    "<!-- Save the notebook -->\n",
    "IPython.notebook.save_checkpoint();"
   ]
  },
  {
   "cell_type": "code",
   "execution_count": null,
   "metadata": {},
   "outputs": [],
   "source": [
    "%%javascript\n",
    "IPython.notebook.session.delete();\n",
    "window.onbeforeunload = null\n",
    "setTimeout(function() { window.close(); }, 1000);"
   ]
  }
 ],
 "metadata": {
  "accelerator": "GPU",
  "colab": {
   "collapsed_sections": [],
   "name": "Exercise 6 - Question.ipynb",
   "provenance": []
  },
  "coursera": {
   "course_slug": "convolutional-neural-networks-tensorflow",
   "graded_item_id": "uAPOR",
   "launcher_item_id": "e9lTb"
  },
  "kernelspec": {
   "display_name": "Python 3",
   "language": "python",
   "name": "python3"
  },
  "language_info": {
   "codemirror_mode": {
    "name": "ipython",
    "version": 3
   },
   "file_extension": ".py",
   "mimetype": "text/x-python",
   "name": "python",
   "nbconvert_exporter": "python",
   "pygments_lexer": "ipython3",
   "version": "3.6.8"
  }
 },
 "nbformat": 4,
 "nbformat_minor": 1
}
