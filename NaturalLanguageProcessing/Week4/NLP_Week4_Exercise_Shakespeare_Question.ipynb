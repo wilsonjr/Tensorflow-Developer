{
  "nbformat": 4,
  "nbformat_minor": 0,
  "metadata": {
    "accelerator": "GPU",
    "colab": {
      "name": "Cópia de NLP_Week4_Exercise_Shakespeare_Question.ipynb",
      "provenance": [],
      "toc_visible": true
    },
    "kernelspec": {
      "display_name": "Python 3",
      "name": "python3"
    }
  },
  "cells": [
    {
      "cell_type": "code",
      "metadata": {
        "id": "zX4Kg8DUTKWO"
      },
      "source": [
        "#@title Licensed under the Apache License, Version 2.0 (the \"License\");\n",
        "# you may not use this file except in compliance with the License.\n",
        "# You may obtain a copy of the License at\n",
        "#\n",
        "# https://www.apache.org/licenses/LICENSE-2.0\n",
        "#\n",
        "# Unless required by applicable law or agreed to in writing, software\n",
        "# distributed under the License is distributed on an \"AS IS\" BASIS,\n",
        "# WITHOUT WARRANTIES OR CONDITIONS OF ANY KIND, either express or implied.\n",
        "# See the License for the specific language governing permissions and\n",
        "# limitations under the License."
      ],
      "execution_count": null,
      "outputs": []
    },
    {
      "cell_type": "code",
      "metadata": {
        "id": "BOwsuGQQY9OL"
      },
      "source": [
        "from tensorflow.keras.preprocessing.sequence import pad_sequences\n",
        "from tensorflow.keras.layers import Embedding, LSTM, Dense, Dropout, Bidirectional\n",
        "from tensorflow.keras.preprocessing.text import Tokenizer\n",
        "from tensorflow.keras.models import Sequential\n",
        "from tensorflow.keras.optimizers import Adam\n",
        "### YOUR CODE HERE\n",
        "from tensorflow.keras import regularizers\n",
        "###\n",
        "import tensorflow.keras.utils as ku \n",
        "import numpy as np "
      ],
      "execution_count": null,
      "outputs": []
    },
    {
      "cell_type": "code",
      "metadata": {
        "colab": {
          "base_uri": "https://localhost:8080/"
        },
        "id": "PRnDnCW-Z7qv",
        "outputId": "3682bf57-0b05-4b6f-df97-0e85ad063ce4"
      },
      "source": [
        "tokenizer = Tokenizer()\n",
        "!wget --no-check-certificate \\\n",
        "    https://storage.googleapis.com/laurencemoroney-blog.appspot.com/sonnets.txt \\\n",
        "    -O /tmp/sonnets.txt\n",
        "data = open('/tmp/sonnets.txt').read()\n",
        "\n",
        "corpus = data.lower().split(\"\\n\")\n",
        "\n",
        "\n",
        "tokenizer.fit_on_texts(corpus)\n",
        "total_words = len(tokenizer.word_index) + 1\n",
        "\n",
        "# create input sequences using list of tokens\n",
        "input_sequences = []\n",
        "for line in corpus:\n",
        "\ttoken_list = tokenizer.texts_to_sequences([line])[0]\n",
        "\tfor i in range(1, len(token_list)):\n",
        "\t\tn_gram_sequence = token_list[:i+1]\n",
        "\t\tinput_sequences.append(n_gram_sequence)\n",
        "\n",
        "\n",
        "# pad sequences \n",
        "max_sequence_len = max([len(x) for x in input_sequences])\n",
        "input_sequences = np.array(pad_sequences(input_sequences, maxlen=max_sequence_len, padding='pre'))\n",
        "\n",
        "# create predictors and label\n",
        "predictors, label = input_sequences[:,:-1],input_sequences[:,-1]\n",
        "\n",
        "label = ku.to_categorical(label, num_classes=total_words)"
      ],
      "execution_count": null,
      "outputs": [
        {
          "output_type": "stream",
          "text": [
            "--2021-04-30 02:18:33--  https://storage.googleapis.com/laurencemoroney-blog.appspot.com/sonnets.txt\n",
            "Resolving storage.googleapis.com (storage.googleapis.com)... 74.125.20.128, 74.125.199.128, 74.125.142.128, ...\n",
            "Connecting to storage.googleapis.com (storage.googleapis.com)|74.125.20.128|:443... connected.\n",
            "HTTP request sent, awaiting response... 200 OK\n",
            "Length: 93578 (91K) [text/plain]\n",
            "Saving to: ‘/tmp/sonnets.txt’\n",
            "\n",
            "\r/tmp/sonnets.txt      0%[                    ]       0  --.-KB/s               \r/tmp/sonnets.txt    100%[===================>]  91.38K  --.-KB/s    in 0.001s  \n",
            "\n",
            "2021-04-30 02:18:33 (110 MB/s) - ‘/tmp/sonnets.txt’ saved [93578/93578]\n",
            "\n"
          ],
          "name": "stdout"
        }
      ]
    },
    {
      "cell_type": "code",
      "metadata": {
        "colab": {
          "base_uri": "https://localhost:8080/"
        },
        "id": "w9vH8Y59ajYL",
        "outputId": "8ebe6dc1-4f90-4048-8ec7-c2222377e7bb"
      },
      "source": [
        "model = Sequential()\n",
        "model.add(Embedding(total_words, 256, input_length=max_sequence_len-1))\n",
        "model.add(Bidirectional(LSTM(128, return_sequences=True)))\n",
        "model.add(Dropout(0.2))\n",
        "model.add(Bidirectional(LSTM(64)))\n",
        "model.add(Dense(total_words/2, activation='relu', kernel_regularizer=regularizers.l1_l2(l1=1e-5, l2=1e-4),\n",
        "                                        bias_regularizer=regularizers.l2(1e-4),\n",
        "                                        activity_regularizer=regularizers.l2(1e-5)))\n",
        "model.add(Dense(total_words, activation='softmax'))\n",
        "# Pick an optimizer\n",
        "model.compile(loss='categorical_crossentropy', optimizer='adam', metrics=['accuracy'])\n",
        "print(model.summary())\n"
      ],
      "execution_count": null,
      "outputs": [
        {
          "output_type": "stream",
          "text": [
            "Model: \"sequential_4\"\n",
            "_________________________________________________________________\n",
            "Layer (type)                 Output Shape              Param #   \n",
            "=================================================================\n",
            "embedding_4 (Embedding)      (None, 10, 256)           822016    \n",
            "_________________________________________________________________\n",
            "bidirectional_7 (Bidirection (None, 10, 256)           394240    \n",
            "_________________________________________________________________\n",
            "dropout_3 (Dropout)          (None, 10, 256)           0         \n",
            "_________________________________________________________________\n",
            "bidirectional_8 (Bidirection (None, 128)               164352    \n",
            "_________________________________________________________________\n",
            "dense_3 (Dense)              (None, 1605)              207045    \n",
            "_________________________________________________________________\n",
            "dense_4 (Dense)              (None, 3211)              5156866   \n",
            "=================================================================\n",
            "Total params: 6,744,519\n",
            "Trainable params: 6,744,519\n",
            "Non-trainable params: 0\n",
            "_________________________________________________________________\n",
            "None\n"
          ],
          "name": "stdout"
        }
      ]
    },
    {
      "cell_type": "code",
      "metadata": {
        "colab": {
          "base_uri": "https://localhost:8080/"
        },
        "id": "AIg2f1HBxqof",
        "outputId": "44ab72d3-c568-4758-8692-7230a546475f"
      },
      "source": [
        " history = model.fit(predictors, label, epochs=100, verbose=1)"
      ],
      "execution_count": null,
      "outputs": [
        {
          "output_type": "stream",
          "text": [
            "Epoch 1/100\n",
            "484/484 [==============================] - 13s 17ms/step - loss: 7.0243 - accuracy: 0.0185\n",
            "Epoch 2/100\n",
            "484/484 [==============================] - 8s 17ms/step - loss: 6.4643 - accuracy: 0.0263\n",
            "Epoch 3/100\n",
            "484/484 [==============================] - 8s 17ms/step - loss: 6.2748 - accuracy: 0.0370\n",
            "Epoch 4/100\n",
            "484/484 [==============================] - 8s 18ms/step - loss: 6.0357 - accuracy: 0.0426\n",
            "Epoch 5/100\n",
            "484/484 [==============================] - 8s 17ms/step - loss: 5.8037 - accuracy: 0.0492\n",
            "Epoch 6/100\n",
            "484/484 [==============================] - 8s 17ms/step - loss: 5.5839 - accuracy: 0.0634\n",
            "Epoch 7/100\n",
            "484/484 [==============================] - 8s 17ms/step - loss: 5.3334 - accuracy: 0.0754\n",
            "Epoch 8/100\n",
            "484/484 [==============================] - 8s 17ms/step - loss: 5.1071 - accuracy: 0.0912\n",
            "Epoch 9/100\n",
            "484/484 [==============================] - 8s 17ms/step - loss: 4.8631 - accuracy: 0.1064\n",
            "Epoch 10/100\n",
            "484/484 [==============================] - 8s 17ms/step - loss: 4.6161 - accuracy: 0.1196\n",
            "Epoch 11/100\n",
            "484/484 [==============================] - 8s 17ms/step - loss: 4.3526 - accuracy: 0.1447\n",
            "Epoch 12/100\n",
            "484/484 [==============================] - 8s 17ms/step - loss: 4.1074 - accuracy: 0.1665\n",
            "Epoch 13/100\n",
            "484/484 [==============================] - 8s 17ms/step - loss: 3.8320 - accuracy: 0.2061\n",
            "Epoch 14/100\n",
            "484/484 [==============================] - 8s 17ms/step - loss: 3.5458 - accuracy: 0.2486\n",
            "Epoch 15/100\n",
            "484/484 [==============================] - 9s 18ms/step - loss: 3.3037 - accuracy: 0.2940\n",
            "Epoch 16/100\n",
            "484/484 [==============================] - 9s 18ms/step - loss: 3.0407 - accuracy: 0.3388\n",
            "Epoch 17/100\n",
            "484/484 [==============================] - 9s 18ms/step - loss: 2.7910 - accuracy: 0.3946\n",
            "Epoch 18/100\n",
            "484/484 [==============================] - 9s 18ms/step - loss: 2.5472 - accuracy: 0.4360\n",
            "Epoch 19/100\n",
            "484/484 [==============================] - 9s 18ms/step - loss: 2.3630 - accuracy: 0.4788\n",
            "Epoch 20/100\n",
            "484/484 [==============================] - 9s 18ms/step - loss: 2.1824 - accuracy: 0.5167\n",
            "Epoch 21/100\n",
            "484/484 [==============================] - 9s 18ms/step - loss: 2.0277 - accuracy: 0.5559\n",
            "Epoch 22/100\n",
            "484/484 [==============================] - 9s 18ms/step - loss: 1.9183 - accuracy: 0.5823\n",
            "Epoch 23/100\n",
            "484/484 [==============================] - 9s 18ms/step - loss: 1.8015 - accuracy: 0.6050\n",
            "Epoch 24/100\n",
            "484/484 [==============================] - 9s 18ms/step - loss: 1.6566 - accuracy: 0.6413\n",
            "Epoch 25/100\n",
            "484/484 [==============================] - 9s 18ms/step - loss: 1.5776 - accuracy: 0.6610\n",
            "Epoch 26/100\n",
            "484/484 [==============================] - 9s 18ms/step - loss: 1.4779 - accuracy: 0.6808\n",
            "Epoch 27/100\n",
            "484/484 [==============================] - 9s 18ms/step - loss: 1.4146 - accuracy: 0.6962\n",
            "Epoch 28/100\n",
            "484/484 [==============================] - 9s 18ms/step - loss: 1.3504 - accuracy: 0.7154\n",
            "Epoch 29/100\n",
            "484/484 [==============================] - 9s 18ms/step - loss: 1.2902 - accuracy: 0.7298\n",
            "Epoch 30/100\n",
            "484/484 [==============================] - 9s 18ms/step - loss: 1.2458 - accuracy: 0.7357\n",
            "Epoch 31/100\n",
            "484/484 [==============================] - 9s 18ms/step - loss: 1.2091 - accuracy: 0.7435\n",
            "Epoch 32/100\n",
            "484/484 [==============================] - 9s 18ms/step - loss: 1.1512 - accuracy: 0.7632\n",
            "Epoch 33/100\n",
            "484/484 [==============================] - 9s 18ms/step - loss: 1.1368 - accuracy: 0.7664\n",
            "Epoch 34/100\n",
            "484/484 [==============================] - 9s 18ms/step - loss: 1.1082 - accuracy: 0.7731\n",
            "Epoch 35/100\n",
            "484/484 [==============================] - 9s 18ms/step - loss: 1.0786 - accuracy: 0.7778\n",
            "Epoch 36/100\n",
            "484/484 [==============================] - 9s 18ms/step - loss: 1.0546 - accuracy: 0.7883\n",
            "Epoch 37/100\n",
            "484/484 [==============================] - 9s 18ms/step - loss: 1.0126 - accuracy: 0.7947\n",
            "Epoch 38/100\n",
            "484/484 [==============================] - 9s 18ms/step - loss: 1.0005 - accuracy: 0.7928\n",
            "Epoch 39/100\n",
            "484/484 [==============================] - 9s 18ms/step - loss: 0.9939 - accuracy: 0.7939\n",
            "Epoch 40/100\n",
            "484/484 [==============================] - 9s 18ms/step - loss: 0.9730 - accuracy: 0.8018\n",
            "Epoch 41/100\n",
            "484/484 [==============================] - 9s 18ms/step - loss: 0.9720 - accuracy: 0.8001\n",
            "Epoch 42/100\n",
            "484/484 [==============================] - 9s 18ms/step - loss: 0.9248 - accuracy: 0.8136\n",
            "Epoch 43/100\n",
            "484/484 [==============================] - 9s 18ms/step - loss: 0.9093 - accuracy: 0.8172\n",
            "Epoch 44/100\n",
            "484/484 [==============================] - 9s 18ms/step - loss: 0.8812 - accuracy: 0.8219\n",
            "Epoch 45/100\n",
            "484/484 [==============================] - 9s 18ms/step - loss: 0.8796 - accuracy: 0.8223\n",
            "Epoch 46/100\n",
            "484/484 [==============================] - 9s 18ms/step - loss: 0.8841 - accuracy: 0.8192\n",
            "Epoch 47/100\n",
            "484/484 [==============================] - 9s 18ms/step - loss: 0.8419 - accuracy: 0.8311\n",
            "Epoch 48/100\n",
            "484/484 [==============================] - 9s 18ms/step - loss: 0.8498 - accuracy: 0.8277\n",
            "Epoch 49/100\n",
            "484/484 [==============================] - 9s 18ms/step - loss: 0.8667 - accuracy: 0.8239\n",
            "Epoch 50/100\n",
            "484/484 [==============================] - 9s 18ms/step - loss: 0.8386 - accuracy: 0.8287\n",
            "Epoch 51/100\n",
            "484/484 [==============================] - 9s 18ms/step - loss: 0.8107 - accuracy: 0.8374\n",
            "Epoch 52/100\n",
            "484/484 [==============================] - 9s 18ms/step - loss: 0.7795 - accuracy: 0.8419\n",
            "Epoch 53/100\n",
            "484/484 [==============================] - 9s 18ms/step - loss: 0.8084 - accuracy: 0.8384\n",
            "Epoch 54/100\n",
            "484/484 [==============================] - 9s 18ms/step - loss: 0.8207 - accuracy: 0.8327\n",
            "Epoch 55/100\n",
            "484/484 [==============================] - 9s 18ms/step - loss: 0.8036 - accuracy: 0.8336\n",
            "Epoch 56/100\n",
            "484/484 [==============================] - 9s 18ms/step - loss: 0.7931 - accuracy: 0.8384\n",
            "Epoch 57/100\n",
            "484/484 [==============================] - 10s 20ms/step - loss: 0.7815 - accuracy: 0.8380\n",
            "Epoch 58/100\n",
            "484/484 [==============================] - 9s 19ms/step - loss: 0.7893 - accuracy: 0.8334\n",
            "Epoch 59/100\n",
            "484/484 [==============================] - 9s 18ms/step - loss: 0.7862 - accuracy: 0.8391\n",
            "Epoch 60/100\n",
            "484/484 [==============================] - 9s 18ms/step - loss: 0.7465 - accuracy: 0.8472\n",
            "Epoch 61/100\n",
            "484/484 [==============================] - 9s 18ms/step - loss: 0.7464 - accuracy: 0.8430\n",
            "Epoch 62/100\n",
            "484/484 [==============================] - 9s 18ms/step - loss: 0.7580 - accuracy: 0.8439\n",
            "Epoch 63/100\n",
            "484/484 [==============================] - 9s 18ms/step - loss: 0.7506 - accuracy: 0.8423\n",
            "Epoch 64/100\n",
            "484/484 [==============================] - 9s 18ms/step - loss: 0.7355 - accuracy: 0.8447\n",
            "Epoch 65/100\n",
            "484/484 [==============================] - 9s 18ms/step - loss: 0.7338 - accuracy: 0.8481\n",
            "Epoch 66/100\n",
            "484/484 [==============================] - 9s 18ms/step - loss: 0.7376 - accuracy: 0.8434\n",
            "Epoch 67/100\n",
            "484/484 [==============================] - 9s 18ms/step - loss: 0.7516 - accuracy: 0.8371\n",
            "Epoch 68/100\n",
            "484/484 [==============================] - 9s 18ms/step - loss: 0.7256 - accuracy: 0.8468\n",
            "Epoch 69/100\n",
            "484/484 [==============================] - 9s 18ms/step - loss: 0.7297 - accuracy: 0.8441\n",
            "Epoch 70/100\n",
            "484/484 [==============================] - 9s 18ms/step - loss: 0.7193 - accuracy: 0.8467\n",
            "Epoch 71/100\n",
            "484/484 [==============================] - 9s 18ms/step - loss: 0.7272 - accuracy: 0.8430\n",
            "Epoch 72/100\n",
            "484/484 [==============================] - 9s 18ms/step - loss: 0.7237 - accuracy: 0.8436\n",
            "Epoch 73/100\n",
            "484/484 [==============================] - 9s 18ms/step - loss: 0.7177 - accuracy: 0.8455\n",
            "Epoch 74/100\n",
            "484/484 [==============================] - 9s 18ms/step - loss: 0.7103 - accuracy: 0.8446\n",
            "Epoch 75/100\n",
            "484/484 [==============================] - 9s 18ms/step - loss: 0.7209 - accuracy: 0.8441\n",
            "Epoch 76/100\n",
            "484/484 [==============================] - 8s 17ms/step - loss: 0.7034 - accuracy: 0.8461\n",
            "Epoch 77/100\n",
            "484/484 [==============================] - 8s 17ms/step - loss: 0.6969 - accuracy: 0.8500\n",
            "Epoch 78/100\n",
            "484/484 [==============================] - 8s 17ms/step - loss: 0.6795 - accuracy: 0.8543\n",
            "Epoch 79/100\n",
            "484/484 [==============================] - 8s 18ms/step - loss: 0.7125 - accuracy: 0.8414\n",
            "Epoch 80/100\n",
            "484/484 [==============================] - 8s 17ms/step - loss: 0.7079 - accuracy: 0.8449\n",
            "Epoch 81/100\n",
            "484/484 [==============================] - 8s 17ms/step - loss: 0.6723 - accuracy: 0.8521\n",
            "Epoch 82/100\n",
            "484/484 [==============================] - 8s 17ms/step - loss: 0.7142 - accuracy: 0.8419\n",
            "Epoch 83/100\n",
            "484/484 [==============================] - 8s 17ms/step - loss: 0.6887 - accuracy: 0.8473\n",
            "Epoch 84/100\n",
            "484/484 [==============================] - 8s 17ms/step - loss: 0.6855 - accuracy: 0.8488\n",
            "Epoch 85/100\n",
            "484/484 [==============================] - 8s 17ms/step - loss: 0.6672 - accuracy: 0.8533\n",
            "Epoch 86/100\n",
            "484/484 [==============================] - 8s 17ms/step - loss: 0.6687 - accuracy: 0.8489\n",
            "Epoch 87/100\n",
            "484/484 [==============================] - 8s 17ms/step - loss: 0.6918 - accuracy: 0.8443\n",
            "Epoch 88/100\n",
            "484/484 [==============================] - 8s 17ms/step - loss: 0.6828 - accuracy: 0.8438\n",
            "Epoch 89/100\n",
            "484/484 [==============================] - 9s 18ms/step - loss: 0.6754 - accuracy: 0.8484\n",
            "Epoch 90/100\n",
            "484/484 [==============================] - 9s 18ms/step - loss: 0.6775 - accuracy: 0.8455\n",
            "Epoch 91/100\n",
            "484/484 [==============================] - 9s 18ms/step - loss: 0.6748 - accuracy: 0.8481\n",
            "Epoch 92/100\n",
            "484/484 [==============================] - 9s 18ms/step - loss: 0.6944 - accuracy: 0.8414\n",
            "Epoch 93/100\n",
            "484/484 [==============================] - 9s 18ms/step - loss: 0.6451 - accuracy: 0.8583\n",
            "Epoch 94/100\n",
            "484/484 [==============================] - 9s 18ms/step - loss: 0.6682 - accuracy: 0.8483\n",
            "Epoch 95/100\n",
            "484/484 [==============================] - 9s 18ms/step - loss: 0.6730 - accuracy: 0.8482\n",
            "Epoch 96/100\n",
            "484/484 [==============================] - 9s 18ms/step - loss: 0.6746 - accuracy: 0.8471\n",
            "Epoch 97/100\n",
            "484/484 [==============================] - 9s 18ms/step - loss: 0.6664 - accuracy: 0.8490\n",
            "Epoch 98/100\n",
            "484/484 [==============================] - 9s 18ms/step - loss: 0.6562 - accuracy: 0.8509\n",
            "Epoch 99/100\n",
            "484/484 [==============================] - 9s 18ms/step - loss: 0.6479 - accuracy: 0.8523\n",
            "Epoch 100/100\n",
            "484/484 [==============================] - 9s 18ms/step - loss: 0.6438 - accuracy: 0.8515\n"
          ],
          "name": "stdout"
        }
      ]
    },
    {
      "cell_type": "code",
      "metadata": {
        "colab": {
          "base_uri": "https://localhost:8080/",
          "height": 545
        },
        "id": "1fXTEO3GJ282",
        "outputId": "252d9967-9950-41b1-b0c7-c3f1d38997fc"
      },
      "source": [
        "import matplotlib.pyplot as plt\n",
        "acc = history.history['accuracy']\n",
        "loss = history.history['loss']\n",
        "\n",
        "epochs = range(len(acc))\n",
        "\n",
        "plt.plot(epochs, acc, 'b', label='Training accuracy')\n",
        "plt.title('Training accuracy')\n",
        "\n",
        "plt.figure()\n",
        "\n",
        "plt.plot(epochs, loss, 'b', label='Training Loss')\n",
        "plt.title('Training loss')\n",
        "plt.legend()\n",
        "\n",
        "plt.show()"
      ],
      "execution_count": null,
      "outputs": [
        {
          "output_type": "display_data",
          "data": {
            "image/png": "[encoded data removed]",
            "text/plain": [
              "<Figure size 432x288 with 1 Axes>"
            ]
          },
          "metadata": {
            "tags": [],
            "needs_background": "light"
          }
        },
        {
          "output_type": "display_data",
          "data": {
            "image/png": "[encoded data removed]",
            "text/plain": [
              "<Figure size 432x288 with 1 Axes>"
            ]
          },
          "metadata": {
            "tags": [],
            "needs_background": "light"
          }
        }
      ]
    },
    {
      "cell_type": "code",
      "metadata": {
        "colab": {
          "base_uri": "https://localhost:8080/"
        },
        "id": "6Vc6PHgxa6Hm",
        "outputId": "065c2e38-05a8-4fad-85fc-10a505074304"
      },
      "source": [
        "seed_text = \"Help me Obi Wan Kenobi, you're my only hope\"\n",
        "next_words = 100\n",
        "  \n",
        "for _ in range(next_words):\n",
        "\ttoken_list = tokenizer.texts_to_sequences([seed_text])[0]\n",
        "\ttoken_list = pad_sequences([token_list], maxlen=max_sequence_len-1, padding='pre')\n",
        "\tpredicted = model.predict_classes(token_list, verbose=0)\n",
        "\toutput_word = \"\"\n",
        "\tfor word, index in tokenizer.word_index.items():\n",
        "\t\tif index == predicted:\n",
        "\t\t\toutput_word = word\n",
        "\t\t\tbreak\n",
        "\tseed_text += \" \" + output_word\n",
        "print(seed_text)"
      ],
      "execution_count": null,
      "outputs": [
        {
          "output_type": "stream",
          "text": [
            "/usr/local/lib/python3.7/dist-packages/tensorflow/python/keras/engine/sequential.py:450: UserWarning: `model.predict_classes()` is deprecated and will be removed after 2021-01-01. Please use instead:* `np.argmax(model.predict(x), axis=-1)`,   if your model does multi-class classification   (e.g. if it uses a `softmax` last-layer activation).* `(model.predict(x) > 0.5).astype(\"int32\")`,   if your model does binary classification   (e.g. if it uses a `sigmoid` last-layer activation).\n",
            "  warnings.warn('`model.predict_classes()` is deprecated and '\n"
          ],
          "name": "stderr"
        },
        {
          "output_type": "stream",
          "text": [
            "Help me Obi Wan Kenobi, you're my only hope my content abuse me hate forth me seen gone are that my muse love torn torn thence it in torn seen brow ' mad with dost dost hate it seen hate groan hate forth green me so fair old ' have mine for me in it bright wrong directed seen wrong days seen seen war repair ' on you are tell my mind alone are free it hits free green thee not not still green my ill say awake me not so fair belong it ' are so bold not that free free gone more ' seen green me truth\n"
          ],
          "name": "stdout"
        }
      ]
    },
    {
      "cell_type": "code",
      "metadata": {
        "id": "Oaw4lo4rrK-F"
      },
      "source": [
        ""
      ],
      "execution_count": null,
      "outputs": []
    }
  ]
}