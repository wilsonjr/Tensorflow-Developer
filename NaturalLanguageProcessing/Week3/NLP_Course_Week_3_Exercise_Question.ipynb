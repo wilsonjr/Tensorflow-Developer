{
  "nbformat": 4,
  "nbformat_minor": 0,
  "metadata": {
    "accelerator": "GPU",
    "colab": {
      "name": "Cópia de NLP Course - Week 3 Exercise Question.ipynb",
      "provenance": []
    },
    "kernelspec": {
      "display_name": "Python 3",
      "name": "python3"
    }
  },
  "cells": [
    {
      "cell_type": "code",
      "metadata": {
        "id": "zX4Kg8DUTKWO"
      },
      "source": [
        "#@title Licensed under the Apache License, Version 2.0 (the \"License\");\n",
        "# you may not use this file except in compliance with the License.\n",
        "# You may obtain a copy of the License at\n",
        "#\n",
        "# https://www.apache.org/licenses/LICENSE-2.0\n",
        "#\n",
        "# Unless required by applicable law or agreed to in writing, software\n",
        "# distributed under the License is distributed on an \"AS IS\" BASIS,\n",
        "# WITHOUT WARRANTIES OR CONDITIONS OF ANY KIND, either express or implied.\n",
        "# See the License for the specific language governing permissions and\n",
        "# limitations under the License."
      ],
      "execution_count": null,
      "outputs": []
    },
    {
      "cell_type": "code",
      "metadata": {
        "id": "hmA6EzkQJ5jt"
      },
      "source": [
        "import json\n",
        "import tensorflow as tf\n",
        "import csv\n",
        "import random\n",
        "import numpy as np\n",
        "\n",
        "from tensorflow.keras.preprocessing.text import Tokenizer\n",
        "from tensorflow.keras.preprocessing.sequence import pad_sequences\n",
        "from tensorflow.keras.utils import to_categorical\n",
        "from tensorflow.keras import regularizers\n",
        "\n",
        "\n",
        "embedding_dim = 100\n",
        "max_length = 16\n",
        "trunc_type='post'\n",
        "padding_type='post'\n",
        "oov_tok = \"<OOV>\"\n",
        "training_size=160000\n",
        "test_portion=.1\n",
        "\n",
        "corpus = []\n"
      ],
      "execution_count": null,
      "outputs": []
    },
    {
      "cell_type": "code",
      "metadata": {
        "colab": {
          "base_uri": "https://localhost:8080/"
        },
        "id": "bM0l_dORKqE0",
        "outputId": "cdc3b753-459b-48e6-da2d-76ab59b0e5fc"
      },
      "source": [
        "# Note that I cleaned the Stanford dataset to remove LATIN1 encoding to make it easier for Python CSV reader\n",
        "# You can do that yourself with:\n",
        "# iconv -f LATIN1 -t UTF8 training.1600000.processed.noemoticon.csv -o training_cleaned.csv\n",
        "# I then hosted it on my site to make it easier to use in this notebook\n",
        "\n",
        "!wget --no-check-certificate \\\n",
        "    https://storage.googleapis.com/laurencemoroney-blog.appspot.com/training_cleaned.csv \\\n",
        "    -O /tmp/training_cleaned.csv\n",
        "\n",
        "num_sentences = 0\n",
        "\n",
        "with open(\"/tmp/training_cleaned.csv\") as csvfile:\n",
        "    reader = csv.reader(csvfile, delimiter=',')\n",
        "    for row in reader:\n",
        "      # Your Code here. Create list items where the first item is the text, found in row[5], and the second is the label. Note that the label is a '0' or a '4' in the text. When it's the former, make\n",
        "      # your label to be 0, otherwise 1. Keep a count of the number of sentences in num_sentences\n",
        "        list_item=[]\n",
        "        list_item.append(row[5])\n",
        "        if int(row[0]) != 0:\n",
        "          list_item.append(1)\n",
        "        else:\n",
        "          list_item.append(0)\n",
        "        num_sentences = num_sentences + 1\n",
        "        corpus.append(list_item)\n"
      ],
      "execution_count": null,
      "outputs": [
        {
          "output_type": "stream",
          "text": [
            "--2021-04-20 13:30:26--  https://storage.googleapis.com/laurencemoroney-blog.appspot.com/training_cleaned.csv\n",
            "Resolving storage.googleapis.com (storage.googleapis.com)... 74.125.204.128, 64.233.188.128, 64.233.189.128, ...\n",
            "Connecting to storage.googleapis.com (storage.googleapis.com)|74.125.204.128|:443... connected.\n",
            "HTTP request sent, awaiting response... 200 OK\n",
            "Length: 238942690 (228M) [application/octet-stream]\n",
            "Saving to: ‘/tmp/training_cleaned.csv’\n",
            "\n",
            "/tmp/training_clean 100%[===================>] 227.87M   158MB/s    in 1.4s    \n",
            "\n",
            "2021-04-20 13:30:28 (158 MB/s) - ‘/tmp/training_cleaned.csv’ saved [238942690/238942690]\n",
            "\n"
          ],
          "name": "stdout"
        }
      ]
    },
    {
      "cell_type": "code",
      "metadata": {
        "colab": {
          "base_uri": "https://localhost:8080/"
        },
        "id": "3kxblBUjEUX-",
        "outputId": "2dc295d8-8799-4bec-9e2b-5d22ab98de96"
      },
      "source": [
        "print(num_sentences)\n",
        "print(len(corpus))\n",
        "print(corpus[1])\n",
        "\n",
        "# Expected Output:\n",
        "# 1600000\n",
        "# 1600000\n",
        "# [\"is upset that he can't update his Facebook by texting it... and might cry as a result  School today also. Blah!\", 0]"
      ],
      "execution_count": null,
      "outputs": [
        {
          "output_type": "stream",
          "text": [
            "1600000\n",
            "1600000\n",
            "[\"is upset that he can't update his Facebook by texting it... and might cry as a result  School today also. Blah!\", 0]\n"
          ],
          "name": "stdout"
        }
      ]
    },
    {
      "cell_type": "code",
      "metadata": {
        "id": "ohOGz24lsNAD"
      },
      "source": [
        "sentences=[]\n",
        "labels=[]\n",
        "random.shuffle(corpus)\n",
        "for x in range(training_size):\n",
        "    sentences.append(corpus[x][0])\n",
        "    labels.append(corpus[x][1])\n",
        "\n",
        "\n",
        "tokenizer = Tokenizer(oov_token=oov_tok)\n",
        "tokenizer.fit_on_texts(sentences)\n",
        "\n",
        "word_index = tokenizer.word_index\n",
        "vocab_size=len(word_index)\n",
        "\n",
        "sequences = tokenizer.texts_to_sequences(sentences)\n",
        "padded = pad_sequences(sequences, maxlen=max_length, truncating=trunc_type, padding=padding_type)\n",
        "\n",
        "split = int(test_portion * training_size)\n",
        "\n",
        "test_sequences = padded[:split]\n",
        "training_sequences = padded[split:]\n",
        "test_labels = labels[:split]\n",
        "training_labels = labels[split:]"
      ],
      "execution_count": null,
      "outputs": []
    },
    {
      "cell_type": "code",
      "metadata": {
        "colab": {
          "base_uri": "https://localhost:8080/"
        },
        "id": "gIrtRem1En3N",
        "outputId": "9631872f-5042-48cc-e05e-5f2dc910dce2"
      },
      "source": [
        "print(vocab_size)\n",
        "print(word_index['i'])\n",
        "# Expected Output\n",
        "# 138858\n",
        "# 1"
      ],
      "execution_count": null,
      "outputs": [
        {
          "output_type": "stream",
          "text": [
            "138392\n",
            "2\n"
          ],
          "name": "stdout"
        }
      ]
    },
    {
      "cell_type": "code",
      "metadata": {
        "id": "C1zdgJkusRh0"
      },
      "source": [
        "# Note this is the 100 dimension version of GloVe from Stanford\n",
        "# I unzipped and hosted it on my site to make this notebook easier\n",
        "# !wget --no-check-certificate \\\n",
        "#     https://storage.googleapis.com/laurencemoroney-blog.appspot.com/glove.6B.100d.txt \\\n",
        "#     -O /tmp/glove.6B.100d.txt\n",
        "embeddings_index = {};\n",
        "with open('/tmp/glove.6B.100d.txt') as f:\n",
        "    for line in f:\n",
        "        values = line.split();\n",
        "        word = values[0];\n",
        "        coefs = np.asarray(values[1:], dtype='float32');\n",
        "        embeddings_index[word] = coefs;\n",
        "\n",
        "embeddings_matrix = np.zeros((vocab_size+1, embedding_dim));\n",
        "for word, i in word_index.items():\n",
        "    embedding_vector = embeddings_index.get(word);\n",
        "    if embedding_vector is not None:\n",
        "        embeddings_matrix[i] = embedding_vector;"
      ],
      "execution_count": null,
      "outputs": []
    },
    {
      "cell_type": "code",
      "metadata": {
        "colab": {
          "base_uri": "https://localhost:8080/"
        },
        "id": "71NLk_lpFLNt",
        "outputId": "6b3adb7a-ce0e-4417-adde-515d658e095c"
      },
      "source": [
        "print(len(embeddings_matrix))\n",
        "# Expected Output\n",
        "# 138859"
      ],
      "execution_count": null,
      "outputs": [
        {
          "output_type": "stream",
          "text": [
            "138393\n"
          ],
          "name": "stdout"
        }
      ]
    },
    {
      "cell_type": "code",
      "metadata": {
        "colab": {
          "base_uri": "https://localhost:8080/"
        },
        "id": "iKKvbuEBOGFz",
        "outputId": "e336fd4c-9f11-4762-bf06-1fec7c4c85d6"
      },
      "source": [
        "model = tf.keras.Sequential([\n",
        "    tf.keras.layers.Embedding(vocab_size+1, embedding_dim, input_length=max_length, weights=[embeddings_matrix], trainable=False),\n",
        "    tf.keras.layers.Dropout(0.2),\n",
        "    tf.keras.layers.Conv1D(64, 5, activation='relu'),\n",
        "    tf.keras.layers.MaxPooling1D(4),\n",
        "    tf.keras.layers.LSTM(64),\n",
        "    tf.keras.layers.Dense(1, activation='sigmoid')\n",
        "])\n",
        "model.compile(loss='binary_crossentropy', optimizer='adam', metrics=['accuracy'])\n",
        "model.summary()\n",
        "\n",
        "num_epochs = 50\n",
        "\n",
        "training_padded = np.array(training_sequences)\n",
        "training_labels = np.array(training_labels)\n",
        "testing_padded = np.array(test_sequences)\n",
        "testing_labels = np.array(test_labels)\n",
        "\n",
        "history = model.fit(training_padded, training_labels, epochs=num_epochs, validation_data=(testing_padded, testing_labels), verbose=2)\n",
        "\n",
        "print(\"Training Complete\")\n"
      ],
      "execution_count": null,
      "outputs": [
        {
          "output_type": "stream",
          "text": [
            "Model: \"sequential_9\"\n",
            "_________________________________________________________________\n",
            "Layer (type)                 Output Shape              Param #   \n",
            "=================================================================\n",
            "embedding_9 (Embedding)      (None, 16, 100)           13839300  \n",
            "_________________________________________________________________\n",
            "dropout_8 (Dropout)          (None, 16, 100)           0         \n",
            "_________________________________________________________________\n",
            "conv1d_6 (Conv1D)            (None, 12, 64)            32064     \n",
            "_________________________________________________________________\n",
            "max_pooling1d_9 (MaxPooling1 (None, 3, 64)             0         \n",
            "_________________________________________________________________\n",
            "lstm_9 (LSTM)                (None, 64)                33024     \n",
            "_________________________________________________________________\n",
            "dense_9 (Dense)              (None, 1)                 65        \n",
            "=================================================================\n",
            "Total params: 13,904,453\n",
            "Trainable params: 65,153\n",
            "Non-trainable params: 13,839,300\n",
            "_________________________________________________________________\n",
            "Epoch 1/50\n",
            "4500/4500 - 19s - loss: 0.5668 - accuracy: 0.6983 - val_loss: 0.5328 - val_accuracy: 0.7263\n",
            "Epoch 2/50\n",
            "4500/4500 - 17s - loss: 0.5276 - accuracy: 0.7317 - val_loss: 0.5168 - val_accuracy: 0.7399\n",
            "Epoch 3/50\n",
            "4500/4500 - 17s - loss: 0.5120 - accuracy: 0.7429 - val_loss: 0.5178 - val_accuracy: 0.7377\n",
            "Epoch 4/50\n",
            "4500/4500 - 17s - loss: 0.4995 - accuracy: 0.7501 - val_loss: 0.4984 - val_accuracy: 0.7517\n",
            "Epoch 5/50\n",
            "4500/4500 - 17s - loss: 0.4919 - accuracy: 0.7559 - val_loss: 0.4996 - val_accuracy: 0.7532\n",
            "Epoch 6/50\n",
            "4500/4500 - 17s - loss: 0.4843 - accuracy: 0.7610 - val_loss: 0.4992 - val_accuracy: 0.7542\n",
            "Epoch 7/50\n",
            "4500/4500 - 17s - loss: 0.4778 - accuracy: 0.7646 - val_loss: 0.5005 - val_accuracy: 0.7516\n",
            "Epoch 8/50\n",
            "4500/4500 - 17s - loss: 0.4731 - accuracy: 0.7688 - val_loss: 0.5012 - val_accuracy: 0.7532\n",
            "Epoch 9/50\n",
            "4500/4500 - 17s - loss: 0.4683 - accuracy: 0.7720 - val_loss: 0.5008 - val_accuracy: 0.7533\n",
            "Epoch 10/50\n",
            "4500/4500 - 17s - loss: 0.4658 - accuracy: 0.7727 - val_loss: 0.4996 - val_accuracy: 0.7573\n",
            "Epoch 11/50\n",
            "4500/4500 - 17s - loss: 0.4622 - accuracy: 0.7760 - val_loss: 0.5028 - val_accuracy: 0.7526\n",
            "Epoch 12/50\n",
            "4500/4500 - 17s - loss: 0.4602 - accuracy: 0.7770 - val_loss: 0.5054 - val_accuracy: 0.7533\n",
            "Epoch 13/50\n",
            "4500/4500 - 17s - loss: 0.4574 - accuracy: 0.7783 - val_loss: 0.5048 - val_accuracy: 0.7520\n",
            "Epoch 14/50\n",
            "4500/4500 - 17s - loss: 0.4539 - accuracy: 0.7811 - val_loss: 0.5041 - val_accuracy: 0.7534\n",
            "Epoch 15/50\n",
            "4500/4500 - 17s - loss: 0.4528 - accuracy: 0.7809 - val_loss: 0.5082 - val_accuracy: 0.7514\n",
            "Epoch 16/50\n",
            "4500/4500 - 17s - loss: 0.4492 - accuracy: 0.7841 - val_loss: 0.5075 - val_accuracy: 0.7552\n",
            "Epoch 17/50\n",
            "4500/4500 - 17s - loss: 0.4473 - accuracy: 0.7850 - val_loss: 0.5133 - val_accuracy: 0.7466\n",
            "Epoch 18/50\n",
            "4500/4500 - 17s - loss: 0.4464 - accuracy: 0.7855 - val_loss: 0.5153 - val_accuracy: 0.7496\n",
            "Epoch 19/50\n",
            "4500/4500 - 17s - loss: 0.4455 - accuracy: 0.7859 - val_loss: 0.5230 - val_accuracy: 0.7504\n",
            "Epoch 20/50\n",
            "4500/4500 - 17s - loss: 0.4446 - accuracy: 0.7869 - val_loss: 0.5109 - val_accuracy: 0.7490\n",
            "Epoch 21/50\n",
            "4500/4500 - 17s - loss: 0.4441 - accuracy: 0.7864 - val_loss: 0.5089 - val_accuracy: 0.7522\n",
            "Epoch 22/50\n",
            "4500/4500 - 17s - loss: 0.4408 - accuracy: 0.7885 - val_loss: 0.5146 - val_accuracy: 0.7505\n",
            "Epoch 23/50\n",
            "4500/4500 - 17s - loss: 0.4406 - accuracy: 0.7892 - val_loss: 0.5128 - val_accuracy: 0.7495\n",
            "Epoch 24/50\n",
            "4500/4500 - 17s - loss: 0.4391 - accuracy: 0.7899 - val_loss: 0.5148 - val_accuracy: 0.7491\n",
            "Epoch 25/50\n",
            "4500/4500 - 17s - loss: 0.4395 - accuracy: 0.7888 - val_loss: 0.5100 - val_accuracy: 0.7489\n",
            "Epoch 26/50\n",
            "4500/4500 - 18s - loss: 0.4372 - accuracy: 0.7908 - val_loss: 0.5182 - val_accuracy: 0.7498\n",
            "Epoch 27/50\n",
            "4500/4500 - 17s - loss: 0.4390 - accuracy: 0.7895 - val_loss: 0.5253 - val_accuracy: 0.7444\n",
            "Epoch 28/50\n",
            "4500/4500 - 17s - loss: 0.4383 - accuracy: 0.7895 - val_loss: 0.5179 - val_accuracy: 0.7462\n",
            "Epoch 29/50\n",
            "4500/4500 - 17s - loss: 0.4369 - accuracy: 0.7905 - val_loss: 0.5114 - val_accuracy: 0.7508\n",
            "Epoch 30/50\n",
            "4500/4500 - 17s - loss: 0.4359 - accuracy: 0.7919 - val_loss: 0.5176 - val_accuracy: 0.7500\n",
            "Epoch 31/50\n",
            "4500/4500 - 17s - loss: 0.4346 - accuracy: 0.7931 - val_loss: 0.5200 - val_accuracy: 0.7490\n",
            "Epoch 32/50\n",
            "4500/4500 - 17s - loss: 0.4356 - accuracy: 0.7909 - val_loss: 0.5132 - val_accuracy: 0.7495\n",
            "Epoch 33/50\n",
            "4500/4500 - 17s - loss: 0.4345 - accuracy: 0.7925 - val_loss: 0.5161 - val_accuracy: 0.7461\n",
            "Epoch 34/50\n",
            "4500/4500 - 17s - loss: 0.4325 - accuracy: 0.7936 - val_loss: 0.5162 - val_accuracy: 0.7460\n",
            "Epoch 35/50\n",
            "4500/4500 - 17s - loss: 0.4332 - accuracy: 0.7927 - val_loss: 0.5180 - val_accuracy: 0.7464\n",
            "Epoch 36/50\n",
            "4500/4500 - 17s - loss: 0.4320 - accuracy: 0.7929 - val_loss: 0.5223 - val_accuracy: 0.7477\n",
            "Epoch 37/50\n",
            "4500/4500 - 17s - loss: 0.4313 - accuracy: 0.7934 - val_loss: 0.5276 - val_accuracy: 0.7457\n",
            "Epoch 38/50\n",
            "4500/4500 - 17s - loss: 0.4308 - accuracy: 0.7955 - val_loss: 0.5236 - val_accuracy: 0.7456\n",
            "Epoch 39/50\n",
            "4500/4500 - 17s - loss: 0.4310 - accuracy: 0.7948 - val_loss: 0.5247 - val_accuracy: 0.7462\n",
            "Epoch 40/50\n",
            "4500/4500 - 17s - loss: 0.4302 - accuracy: 0.7960 - val_loss: 0.5198 - val_accuracy: 0.7438\n",
            "Epoch 41/50\n",
            "4500/4500 - 17s - loss: 0.4303 - accuracy: 0.7942 - val_loss: 0.5263 - val_accuracy: 0.7426\n",
            "Epoch 42/50\n",
            "4500/4500 - 17s - loss: 0.4281 - accuracy: 0.7965 - val_loss: 0.5222 - val_accuracy: 0.7451\n",
            "Epoch 43/50\n",
            "4500/4500 - 17s - loss: 0.4294 - accuracy: 0.7954 - val_loss: 0.5239 - val_accuracy: 0.7450\n",
            "Epoch 44/50\n",
            "4500/4500 - 17s - loss: 0.4292 - accuracy: 0.7951 - val_loss: 0.5227 - val_accuracy: 0.7468\n",
            "Epoch 45/50\n",
            "4500/4500 - 17s - loss: 0.4303 - accuracy: 0.7950 - val_loss: 0.5232 - val_accuracy: 0.7467\n",
            "Epoch 46/50\n",
            "4500/4500 - 17s - loss: 0.4291 - accuracy: 0.7956 - val_loss: 0.5255 - val_accuracy: 0.7494\n",
            "Epoch 47/50\n",
            "4500/4500 - 17s - loss: 0.4283 - accuracy: 0.7962 - val_loss: 0.5247 - val_accuracy: 0.7438\n",
            "Epoch 48/50\n",
            "4500/4500 - 17s - loss: 0.4291 - accuracy: 0.7966 - val_loss: 0.5216 - val_accuracy: 0.7462\n",
            "Epoch 49/50\n",
            "4500/4500 - 17s - loss: 0.4278 - accuracy: 0.7962 - val_loss: 0.5268 - val_accuracy: 0.7456\n",
            "Epoch 50/50\n",
            "4500/4500 - 17s - loss: 0.4285 - accuracy: 0.7959 - val_loss: 0.5193 - val_accuracy: 0.7445\n",
            "Training Complete\n"
          ],
          "name": "stdout"
        }
      ]
    },
    {
      "cell_type": "code",
      "metadata": {
        "colab": {
          "base_uri": "https://localhost:8080/",
          "height": 606
        },
        "id": "qxju4ItJKO8F",
        "outputId": "e14ac4ad-3608-4207-d94b-2631a683f742"
      },
      "source": [
        "import matplotlib.image  as mpimg\n",
        "import matplotlib.pyplot as plt\n",
        "\n",
        "#-----------------------------------------------------------\n",
        "# Retrieve a list of list results on training and test data\n",
        "# sets for each training epoch\n",
        "#-----------------------------------------------------------\n",
        "acc=history.history['accuracy']\n",
        "val_acc=history.history['val_accuracy']\n",
        "loss=history.history['loss']\n",
        "val_loss=history.history['val_loss']\n",
        "\n",
        "epochs=range(len(acc)) # Get number of epochs\n",
        "\n",
        "#------------------------------------------------\n",
        "# Plot training and validation accuracy per epoch\n",
        "#------------------------------------------------\n",
        "plt.plot(epochs, acc, 'r')\n",
        "plt.plot(epochs, val_acc, 'b')\n",
        "plt.title('Training and validation accuracy')\n",
        "plt.xlabel(\"Epochs\")\n",
        "plt.ylabel(\"Accuracy\")\n",
        "plt.legend([\"Accuracy\", \"Validation Accuracy\"])\n",
        "\n",
        "plt.figure()\n",
        "\n",
        "#------------------------------------------------\n",
        "# Plot training and validation loss per epoch\n",
        "#------------------------------------------------\n",
        "plt.plot(epochs, loss, 'r')\n",
        "plt.plot(epochs, val_loss, 'b')\n",
        "plt.title('Training and validation loss')\n",
        "plt.xlabel(\"Epochs\")\n",
        "plt.ylabel(\"Loss\")\n",
        "plt.legend([\"Loss\", \"Validation Loss\"])\n",
        "\n",
        "plt.figure()\n",
        "\n",
        "\n",
        "# Expected Output\n",
        "# A chart where the validation loss does not increase sharply!"
      ],
      "execution_count": null,
      "outputs": [
        {
          "output_type": "execute_result",
          "data": {
            "text/plain": [
              "<Figure size 432x288 with 0 Axes>"
            ]
          },
          "metadata": {
            "tags": []
          },
          "execution_count": 36
        },
        {
          "output_type": "display_data",
          "data": {
            "image/png": "[encoded data removed]",
            "text/plain": [
              "<Figure size 432x288 with 1 Axes>"
            ]
          },
          "metadata": {
            "tags": [],
            "needs_background": "light"
          }
        },
        {
          "output_type": "display_data",
          "data": {
            "image/png": "[encoded data removed]",
            "text/plain": [
              "<Figure size 432x288 with 1 Axes>"
            ]
          },
          "metadata": {
            "tags": [],
            "needs_background": "light"
          }
        },
        {
          "output_type": "display_data",
          "data": {
            "text/plain": [
              "<Figure size 432x288 with 0 Axes>"
            ]
          },
          "metadata": {
            "tags": []
          }
        }
      ]
    }
  ]
}